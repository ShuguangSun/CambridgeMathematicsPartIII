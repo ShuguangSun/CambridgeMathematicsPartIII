{
 "metadata": {
  "name": ""
 },
 "nbformat": 3,
 "nbformat_minor": 0,
 "worksheets": [
  {
   "cells": [
    {
     "cell_type": "code",
     "collapsed": false,
     "input": [
      "%load svm.py"
     ],
     "language": "python",
     "metadata": {},
     "outputs": [],
     "prompt_number": 1
    },
    {
     "cell_type": "code",
     "collapsed": false,
     "input": [
      "import numpy as np\n",
      "import cvxopt\n",
      "\n",
      "MIN_SUPPORT_VECTOR_MULTIPLIER = 1e-5\n",
      "\n",
      "\n",
      "def SVMTrainer(object):\n",
      "    def __init__(self, kernel, c):\n",
      "        self._kernel = kernel\n",
      "        self._c = c\n",
      "\n",
      "    def train(self, X, y):\n",
      "        \"\"\"Given the training features X with labels y, returns a SVM\n",
      "        predictor representing the trained SVM.\n",
      "        \"\"\"\n",
      "        lagrange_multipliers = self._compute_multipliers(X, y)\n",
      "        return self._construct_predictor(X, y, lagrange_multipliers)\n",
      "\n",
      "    def _gram_matrix(self, X):\n",
      "        n_samples, n_features = X.shape\n",
      "        K = np.zeros((n_samples, n_samples))\n",
      "        # TODO(tulloch) - vectorize\n",
      "        for i, x_i in enumerate(X):\n",
      "            for j, x_j in enumerate(X):\n",
      "                K[i, j] = self._kernel(x_i, x_j)\n",
      "        return K\n",
      "\n",
      "    def _construct_predictor(self, X, y, lagrange_multipliers):\n",
      "        support_vector_indices = \\\n",
      "            lagrange_multipliers > MIN_SUPPORT_VECTOR_MULTIPLIER\n",
      "\n",
      "        support_multipliers = lagrange_multipliers[support_vector_indices]\n",
      "        support_vectors = X[support_vector_indices]\n",
      "        support_vector_labels = y[support_vector_indices]\n",
      "\n",
      "        # http://www.cs.cmu.edu/~guestrin/Class/10701-S07/Slides/kernels.pdf\n",
      "        # bias = y_k - \\sum z_i y_i  K(x_k, x_i)\n",
      "        # Thus we can just predict an example with bias of zero, and\n",
      "        # compute error.\n",
      "        y_k, x_k = support_vector_labels[0], support_vectors[0]\n",
      "\n",
      "        bias = y_k - SVMPredictor(\n",
      "            kernel=self._kernel,\n",
      "            bias=0.0,\n",
      "            weights=support_multipliers,\n",
      "            support_vectors=support_vectors,\n",
      "            support_vector_labels=support_vector_labels).predict(x_k)\n",
      "\n",
      "        return SVMPredictor(\n",
      "            kernel=self._kernel,\n",
      "            bias=bias,\n",
      "            weights=support_multipliers,\n",
      "            support_vectors=support_vectors,\n",
      "            support_vector_labels=support_vector_labels)\n",
      "\n",
      "    def _compute_multipliers(self, X, y):\n",
      "        n_samples, n_features = X.shape\n",
      "\n",
      "        K = self._gram_matrix(X)\n",
      "        # Solves\n",
      "        # min 1/2 x^T P x + q^T x\n",
      "        # s.t.\n",
      "        #  Gx \\coneleq h\n",
      "        #  Ax = b\n",
      "\n",
      "        P = cvxopt.matrix(np.outer(y, y) * K)\n",
      "        q = cvxopt.matrix(-1 * np.ones(n_samples))\n",
      "\n",
      "        # -a_i \\leq 0\n",
      "        # TODO(tulloch) - modify G, h so that we have a soft-margin classifier\n",
      "        G = cvxopt.matrix(np.diag(np.ones(n_samples) * -1))\n",
      "        h = cvxopt.matrix(np.zeros(n_samples))\n",
      "\n",
      "        # a_i \\leq c\n",
      "        G_slack = cvxopt.matrix(np.diag(np.ones(n_samples)))\n",
      "        h_slack = cvxopt.matrix(np.ones(n_samples) * self._c)\n",
      "\n",
      "        A = cvxopt.matrix(y, (1, n_samples))\n",
      "        b = cvxopt.matrix(0.0)\n",
      "\n",
      "        solution = cvxopt.solvers.qp(P,\n",
      "                                     q,\n",
      "                                     np.vstack(G, G_slack),\n",
      "                                     np.vstack(h, h_slack),\n",
      "                                     A,\n",
      "                                     b)\n",
      "\n",
      "        # Lagrange multipliers\n",
      "        return np.ravel(solution['x'])\n",
      "\n",
      "\n",
      "def SVMPredictor(object):\n",
      "    def __init__(self,\n",
      "                 kernel,\n",
      "                 bias,\n",
      "                 weights,\n",
      "                 support_vectors,\n",
      "                 support_vector_labels):\n",
      "        self._kernel = kernel\n",
      "        self._bias = bias\n",
      "        self._weights = weights\n",
      "        self._support_vectors = support_vectors\n",
      "        self._support_vector_labels = support_vector_labels\n",
      "\n",
      "    def predict(self, x):\n",
      "        \"\"\"\n",
      "        Computes the SVM prediction on the given features x.\n",
      "        \"\"\"\n",
      "        result = self._bias\n",
      "        for z_i, y_i, x_i in zip(self._weights,\n",
      "                                 self._support_vectors,\n",
      "                                 self._support_vector_labels):\n",
      "            result += z_i * y_i * self._kernel(x_i, x)\n",
      "        return np.sign(result)\n",
      "\n",
      "\n",
      "class Kernel(object):\n",
      "    \"\"\"Implements list of kernels from\n",
      "    http://en.wikipedia.org/wiki/Support_vector_machine\n",
      "    \"\"\"\n",
      "    @staticmethod\n",
      "    def linear(x, y):\n",
      "        def f(x, y):\n",
      "            return np.dot(x, y)\n",
      "        return f\n",
      "\n",
      "    @staticmethod\n",
      "    def gaussian(sigma):\n",
      "        def f(x, y):\n",
      "            exponent = -np.sqrt(np.dot(x - y, x - y) ** 2 / (2 * sigma ** 2))\n",
      "            return np.exp(exponent)\n",
      "        return f\n",
      "\n",
      "    @staticmethod\n",
      "    def _polykernel(dimension, offset):\n",
      "        def f(x, y):\n",
      "            return (offset + np.dot(x, y)) ** dimension\n",
      "        return f\n",
      "\n",
      "    @staticmethod\n",
      "    def inhomogenous_polynomial(dimension):\n",
      "        return Kernel._polykernel(dimension=dimension, offset=1.0)\n",
      "\n",
      "    @staticmethod\n",
      "    def homogenous_polynomial(dimension):\n",
      "        return Kernel._polykernel(dimension=dimension, offset=0.0)\n",
      "\n",
      "    @staticmethod\n",
      "    def hyperbolic_tangent(kappa, c):\n",
      "        def f(x, y):\n",
      "            return np.tanh(kappa * np.dot(x, y) + c)\n",
      "        return f\n"
     ],
     "language": "python",
     "metadata": {},
     "outputs": [],
     "prompt_number": 2
    },
    {
     "cell_type": "code",
     "collapsed": false,
     "input": [
      "samples = np.random.normal(100)"
     ],
     "language": "python",
     "metadata": {},
     "outputs": [],
     "prompt_number": 3
    },
    {
     "cell_type": "code",
     "collapsed": false,
     "input": [
      "samples"
     ],
     "language": "python",
     "metadata": {},
     "outputs": [
      {
       "metadata": {},
       "output_type": "pyout",
       "prompt_number": 4,
       "text": [
        "99.34294071995761"
       ]
      }
     ],
     "prompt_number": 4
    },
    {
     "cell_type": "code",
     "collapsed": false,
     "input": [
      "samples = np.random.normal(size=100)"
     ],
     "language": "python",
     "metadata": {},
     "outputs": [],
     "prompt_number": 5
    },
    {
     "cell_type": "code",
     "collapsed": false,
     "input": [
      "samples"
     ],
     "language": "python",
     "metadata": {},
     "outputs": [
      {
       "metadata": {},
       "output_type": "pyout",
       "prompt_number": 6,
       "text": [
        "array([-0.13165311, -2.87461362, -0.73099353, -1.05977072,  1.48530261,\n",
        "        0.03846072, -0.76929111, -1.43999033, -0.15376102, -1.85788045,\n",
        "       -0.43782071,  0.77242385,  0.94185836, -0.52950964, -0.11051721,\n",
        "        0.00937971,  0.3824929 , -0.94746674,  0.42707844, -0.06118288,\n",
        "       -0.79047547, -1.62438744, -1.00051552, -1.23884198,  1.47740018,\n",
        "       -0.02050472, -0.05548084, -1.68168432,  0.79897955,  1.4519038 ,\n",
        "        0.51622358, -1.68191305,  0.34951287,  0.47613988,  0.95864741,\n",
        "        1.09330386, -0.61072094,  0.26170546, -0.83694975, -0.68354392,\n",
        "        0.23711587,  1.28365276,  0.80291204, -2.11372614,  0.40028603,\n",
        "        0.7171575 ,  1.45225004,  0.3040267 , -0.23265631,  0.26880452,\n",
        "       -1.73142604,  0.19550574,  0.7840377 ,  0.82930039,  1.52195255,\n",
        "        1.45782589, -1.35658326, -0.64414487,  0.1260088 , -0.6095418 ,\n",
        "        2.05514498, -1.26661402,  1.32798408,  0.81994829,  1.02384933,\n",
        "       -0.201914  , -0.0741308 ,  0.32043286,  0.26738536,  0.31061672,\n",
        "        0.86514573,  0.84779882, -0.52066902,  0.86532156,  1.01766125,\n",
        "       -0.4557847 , -1.37374437, -1.37959483, -0.91294871, -0.26856148,\n",
        "        0.34883845, -0.62671058, -0.357462  , -0.59716172,  1.02399743,\n",
        "        0.15854769, -0.83895976, -0.20692803, -0.55627067, -1.21617177,\n",
        "        1.80835942,  0.5630773 ,  0.37435544, -0.36090137, -0.43802837,\n",
        "       -0.63151972,  0.5475821 ,  1.47642205, -1.13805336,  0.7381811 ])"
       ]
      }
     ],
     "prompt_number": 6
    },
    {
     "cell_type": "code",
     "collapsed": false,
     "input": [
      "samples.reshape(100, 2)"
     ],
     "language": "python",
     "metadata": {},
     "outputs": [
      {
       "ename": "ValueError",
       "evalue": "total size of new array must be unchanged",
       "output_type": "pyerr",
       "traceback": [
        "\u001b[0;31m---------------------------------------------------------------------------\u001b[0m\n\u001b[0;31mValueError\u001b[0m                                Traceback (most recent call last)",
        "\u001b[0;32m<ipython-input-7-c192631defbd>\u001b[0m in \u001b[0;36m<module>\u001b[0;34m()\u001b[0m\n\u001b[0;32m----> 1\u001b[0;31m \u001b[0msamples\u001b[0m\u001b[0;34m.\u001b[0m\u001b[0mreshape\u001b[0m\u001b[0;34m(\u001b[0m\u001b[0;36m100\u001b[0m\u001b[0;34m,\u001b[0m \u001b[0;36m2\u001b[0m\u001b[0;34m)\u001b[0m\u001b[0;34m\u001b[0m\u001b[0m\n\u001b[0m",
        "\u001b[0;31mValueError\u001b[0m: total size of new array must be unchanged"
       ]
      }
     ],
     "prompt_number": 7
    },
    {
     "cell_type": "code",
     "collapsed": false,
     "input": [
      "samples.reshape(50, 2)"
     ],
     "language": "python",
     "metadata": {},
     "outputs": [
      {
       "metadata": {},
       "output_type": "pyout",
       "prompt_number": 8,
       "text": [
        "array([[-0.13165311, -2.87461362],\n",
        "       [-0.73099353, -1.05977072],\n",
        "       [ 1.48530261,  0.03846072],\n",
        "       [-0.76929111, -1.43999033],\n",
        "       [-0.15376102, -1.85788045],\n",
        "       [-0.43782071,  0.77242385],\n",
        "       [ 0.94185836, -0.52950964],\n",
        "       [-0.11051721,  0.00937971],\n",
        "       [ 0.3824929 , -0.94746674],\n",
        "       [ 0.42707844, -0.06118288],\n",
        "       [-0.79047547, -1.62438744],\n",
        "       [-1.00051552, -1.23884198],\n",
        "       [ 1.47740018, -0.02050472],\n",
        "       [-0.05548084, -1.68168432],\n",
        "       [ 0.79897955,  1.4519038 ],\n",
        "       [ 0.51622358, -1.68191305],\n",
        "       [ 0.34951287,  0.47613988],\n",
        "       [ 0.95864741,  1.09330386],\n",
        "       [-0.61072094,  0.26170546],\n",
        "       [-0.83694975, -0.68354392],\n",
        "       [ 0.23711587,  1.28365276],\n",
        "       [ 0.80291204, -2.11372614],\n",
        "       [ 0.40028603,  0.7171575 ],\n",
        "       [ 1.45225004,  0.3040267 ],\n",
        "       [-0.23265631,  0.26880452],\n",
        "       [-1.73142604,  0.19550574],\n",
        "       [ 0.7840377 ,  0.82930039],\n",
        "       [ 1.52195255,  1.45782589],\n",
        "       [-1.35658326, -0.64414487],\n",
        "       [ 0.1260088 , -0.6095418 ],\n",
        "       [ 2.05514498, -1.26661402],\n",
        "       [ 1.32798408,  0.81994829],\n",
        "       [ 1.02384933, -0.201914  ],\n",
        "       [-0.0741308 ,  0.32043286],\n",
        "       [ 0.26738536,  0.31061672],\n",
        "       [ 0.86514573,  0.84779882],\n",
        "       [-0.52066902,  0.86532156],\n",
        "       [ 1.01766125, -0.4557847 ],\n",
        "       [-1.37374437, -1.37959483],\n",
        "       [-0.91294871, -0.26856148],\n",
        "       [ 0.34883845, -0.62671058],\n",
        "       [-0.357462  , -0.59716172],\n",
        "       [ 1.02399743,  0.15854769],\n",
        "       [-0.83895976, -0.20692803],\n",
        "       [-0.55627067, -1.21617177],\n",
        "       [ 1.80835942,  0.5630773 ],\n",
        "       [ 0.37435544, -0.36090137],\n",
        "       [-0.43802837, -0.63151972],\n",
        "       [ 0.5475821 ,  1.47642205],\n",
        "       [-1.13805336,  0.7381811 ]])"
       ]
      }
     ],
     "prompt_number": 8
    },
    {
     "cell_type": "code",
     "collapsed": false,
     "input": [
      "labels = map(lambda x: x[0] + x[1] > 0, samples)"
     ],
     "language": "python",
     "metadata": {},
     "outputs": [
      {
       "ename": "IndexError",
       "evalue": "invalid index to scalar variable.",
       "output_type": "pyerr",
       "traceback": [
        "\u001b[0;31m---------------------------------------------------------------------------\u001b[0m\n\u001b[0;31mIndexError\u001b[0m                                Traceback (most recent call last)",
        "\u001b[0;32m<ipython-input-9-5f5ed93baad3>\u001b[0m in \u001b[0;36m<module>\u001b[0;34m()\u001b[0m\n\u001b[0;32m----> 1\u001b[0;31m \u001b[0mlabels\u001b[0m \u001b[0;34m=\u001b[0m \u001b[0mmap\u001b[0m\u001b[0;34m(\u001b[0m\u001b[0;32mlambda\u001b[0m \u001b[0mx\u001b[0m\u001b[0;34m:\u001b[0m \u001b[0mx\u001b[0m\u001b[0;34m[\u001b[0m\u001b[0;36m0\u001b[0m\u001b[0;34m]\u001b[0m \u001b[0;34m+\u001b[0m \u001b[0mx\u001b[0m\u001b[0;34m[\u001b[0m\u001b[0;36m1\u001b[0m\u001b[0;34m]\u001b[0m \u001b[0;34m>\u001b[0m \u001b[0;36m0\u001b[0m\u001b[0;34m,\u001b[0m \u001b[0msamples\u001b[0m\u001b[0;34m)\u001b[0m\u001b[0;34m\u001b[0m\u001b[0m\n\u001b[0m",
        "\u001b[0;32m<ipython-input-9-5f5ed93baad3>\u001b[0m in \u001b[0;36m<lambda>\u001b[0;34m(x)\u001b[0m\n\u001b[0;32m----> 1\u001b[0;31m \u001b[0mlabels\u001b[0m \u001b[0;34m=\u001b[0m \u001b[0mmap\u001b[0m\u001b[0;34m(\u001b[0m\u001b[0;32mlambda\u001b[0m \u001b[0mx\u001b[0m\u001b[0;34m:\u001b[0m \u001b[0mx\u001b[0m\u001b[0;34m[\u001b[0m\u001b[0;36m0\u001b[0m\u001b[0;34m]\u001b[0m \u001b[0;34m+\u001b[0m \u001b[0mx\u001b[0m\u001b[0;34m[\u001b[0m\u001b[0;36m1\u001b[0m\u001b[0;34m]\u001b[0m \u001b[0;34m>\u001b[0m \u001b[0;36m0\u001b[0m\u001b[0;34m,\u001b[0m \u001b[0msamples\u001b[0m\u001b[0;34m)\u001b[0m\u001b[0;34m\u001b[0m\u001b[0m\n\u001b[0m",
        "\u001b[0;31mIndexError\u001b[0m: invalid index to scalar variable."
       ]
      }
     ],
     "prompt_number": 9
    },
    {
     "cell_type": "code",
     "collapsed": false,
     "input": [
      "labels = [x[0] + x[1] > 0 for x in samples]\n"
     ],
     "language": "python",
     "metadata": {},
     "outputs": [
      {
       "ename": "IndexError",
       "evalue": "invalid index to scalar variable.",
       "output_type": "pyerr",
       "traceback": [
        "\u001b[0;31m---------------------------------------------------------------------------\u001b[0m\n\u001b[0;31mIndexError\u001b[0m                                Traceback (most recent call last)",
        "\u001b[0;32m<ipython-input-10-e16add71334d>\u001b[0m in \u001b[0;36m<module>\u001b[0;34m()\u001b[0m\n\u001b[0;32m----> 1\u001b[0;31m \u001b[0mlabels\u001b[0m \u001b[0;34m=\u001b[0m \u001b[0;34m[\u001b[0m\u001b[0mx\u001b[0m\u001b[0;34m[\u001b[0m\u001b[0;36m0\u001b[0m\u001b[0;34m]\u001b[0m \u001b[0;34m+\u001b[0m \u001b[0mx\u001b[0m\u001b[0;34m[\u001b[0m\u001b[0;36m1\u001b[0m\u001b[0;34m]\u001b[0m \u001b[0;34m>\u001b[0m \u001b[0;36m0\u001b[0m \u001b[0;32mfor\u001b[0m \u001b[0mx\u001b[0m \u001b[0;32min\u001b[0m \u001b[0msamples\u001b[0m\u001b[0;34m]\u001b[0m\u001b[0;34m\u001b[0m\u001b[0m\n\u001b[0m",
        "\u001b[0;31mIndexError\u001b[0m: invalid index to scalar variable."
       ]
      }
     ],
     "prompt_number": 10
    },
    {
     "cell_type": "code",
     "collapsed": false,
     "input": [
      "samples"
     ],
     "language": "python",
     "metadata": {},
     "outputs": [
      {
       "metadata": {},
       "output_type": "pyout",
       "prompt_number": 11,
       "text": [
        "array([-0.13165311, -2.87461362, -0.73099353, -1.05977072,  1.48530261,\n",
        "        0.03846072, -0.76929111, -1.43999033, -0.15376102, -1.85788045,\n",
        "       -0.43782071,  0.77242385,  0.94185836, -0.52950964, -0.11051721,\n",
        "        0.00937971,  0.3824929 , -0.94746674,  0.42707844, -0.06118288,\n",
        "       -0.79047547, -1.62438744, -1.00051552, -1.23884198,  1.47740018,\n",
        "       -0.02050472, -0.05548084, -1.68168432,  0.79897955,  1.4519038 ,\n",
        "        0.51622358, -1.68191305,  0.34951287,  0.47613988,  0.95864741,\n",
        "        1.09330386, -0.61072094,  0.26170546, -0.83694975, -0.68354392,\n",
        "        0.23711587,  1.28365276,  0.80291204, -2.11372614,  0.40028603,\n",
        "        0.7171575 ,  1.45225004,  0.3040267 , -0.23265631,  0.26880452,\n",
        "       -1.73142604,  0.19550574,  0.7840377 ,  0.82930039,  1.52195255,\n",
        "        1.45782589, -1.35658326, -0.64414487,  0.1260088 , -0.6095418 ,\n",
        "        2.05514498, -1.26661402,  1.32798408,  0.81994829,  1.02384933,\n",
        "       -0.201914  , -0.0741308 ,  0.32043286,  0.26738536,  0.31061672,\n",
        "        0.86514573,  0.84779882, -0.52066902,  0.86532156,  1.01766125,\n",
        "       -0.4557847 , -1.37374437, -1.37959483, -0.91294871, -0.26856148,\n",
        "        0.34883845, -0.62671058, -0.357462  , -0.59716172,  1.02399743,\n",
        "        0.15854769, -0.83895976, -0.20692803, -0.55627067, -1.21617177,\n",
        "        1.80835942,  0.5630773 ,  0.37435544, -0.36090137, -0.43802837,\n",
        "       -0.63151972,  0.5475821 ,  1.47642205, -1.13805336,  0.7381811 ])"
       ]
      }
     ],
     "prompt_number": 11
    },
    {
     "cell_type": "code",
     "collapsed": false,
     "input": [
      "labels = [x[0] + x[1] > 0 for x in samples.reshape(50, 2)]\n"
     ],
     "language": "python",
     "metadata": {},
     "outputs": [],
     "prompt_number": 12
    },
    {
     "cell_type": "code",
     "collapsed": false,
     "input": [
      "samples = np.matrix(np.random.normal(size=4).reshape(2, 2))"
     ],
     "language": "python",
     "metadata": {},
     "outputs": [],
     "prompt_number": 15
    },
    {
     "cell_type": "code",
     "collapsed": false,
     "input": [
      "labels = [sum(x) > 0 for x in samples]"
     ],
     "language": "python",
     "metadata": {},
     "outputs": [],
     "prompt_number": 16
    },
    {
     "cell_type": "code",
     "collapsed": false,
     "input": [
      "labels"
     ],
     "language": "python",
     "metadata": {},
     "outputs": [
      {
       "metadata": {},
       "output_type": "pyout",
       "prompt_number": 17,
       "text": [
        "[matrix([[False,  True]], dtype=bool), matrix([[False,  True]], dtype=bool)]"
       ]
      }
     ],
     "prompt_number": 17
    },
    {
     "cell_type": "code",
     "collapsed": false,
     "input": [
      "samples"
     ],
     "language": "python",
     "metadata": {},
     "outputs": [
      {
       "metadata": {},
       "output_type": "pyout",
       "prompt_number": 18,
       "text": [
        "matrix([[-0.1983325 ,  0.09287872],\n",
        "        [-1.33637138,  0.10607324]])"
       ]
      }
     ],
     "prompt_number": 18
    },
    {
     "cell_type": "code",
     "collapsed": false,
     "input": [
      "samples.sum(axis=1)"
     ],
     "language": "python",
     "metadata": {},
     "outputs": [
      {
       "metadata": {},
       "output_type": "pyout",
       "prompt_number": 19,
       "text": [
        "matrix([[-0.10545378],\n",
        "        [-1.23029814]])"
       ]
      }
     ],
     "prompt_number": 19
    },
    {
     "cell_type": "code",
     "collapsed": false,
     "input": [
      "labels = samples.sum(axis=1) > 0"
     ],
     "language": "python",
     "metadata": {},
     "outputs": [],
     "prompt_number": 21
    },
    {
     "cell_type": "code",
     "collapsed": false,
     "input": [
      "labels"
     ],
     "language": "python",
     "metadata": {},
     "outputs": [
      {
       "metadata": {},
       "output_type": "pyout",
       "prompt_number": 22,
       "text": [
        "matrix([[False],\n",
        "        [False]], dtype=bool)"
       ]
      }
     ],
     "prompt_number": 22
    },
    {
     "cell_type": "code",
     "collapsed": false,
     "input": [
      "labels(dtype=float)"
     ],
     "language": "python",
     "metadata": {},
     "outputs": [
      {
       "ename": "TypeError",
       "evalue": "'matrix' object is not callable",
       "output_type": "pyerr",
       "traceback": [
        "\u001b[0;31m---------------------------------------------------------------------------\u001b[0m\n\u001b[0;31mTypeError\u001b[0m                                 Traceback (most recent call last)",
        "\u001b[0;32m<ipython-input-23-a4e654cc488d>\u001b[0m in \u001b[0;36m<module>\u001b[0;34m()\u001b[0m\n\u001b[0;32m----> 1\u001b[0;31m \u001b[0mlabels\u001b[0m\u001b[0;34m(\u001b[0m\u001b[0mdtype\u001b[0m\u001b[0;34m=\u001b[0m\u001b[0mfloat\u001b[0m\u001b[0;34m)\u001b[0m\u001b[0;34m\u001b[0m\u001b[0m\n\u001b[0m",
        "\u001b[0;31mTypeError\u001b[0m: 'matrix' object is not callable"
       ]
      }
     ],
     "prompt_number": 23
    },
    {
     "cell_type": "code",
     "collapsed": false,
     "input": [
      "labels.astype(float)"
     ],
     "language": "python",
     "metadata": {},
     "outputs": [
      {
       "metadata": {},
       "output_type": "pyout",
       "prompt_number": 24,
       "text": [
        "matrix([[ 0.],\n",
        "        [ 0.]])"
       ]
      }
     ],
     "prompt_number": 24
    },
    {
     "cell_type": "code",
     "collapsed": false,
     "input": [
      "labels"
     ],
     "language": "python",
     "metadata": {},
     "outputs": [
      {
       "metadata": {},
       "output_type": "pyout",
       "prompt_number": 25,
       "text": [
        "matrix([[False],\n",
        "        [False]], dtype=bool)"
       ]
      }
     ],
     "prompt_number": 25
    },
    {
     "cell_type": "code",
     "collapsed": false,
     "input": [
      "labels * 2 -1 "
     ],
     "language": "python",
     "metadata": {},
     "outputs": [
      {
       "metadata": {},
       "output_type": "pyout",
       "prompt_number": 26,
       "text": [
        "matrix([[-1],\n",
        "        [-1]])"
       ]
      }
     ],
     "prompt_number": 26
    },
    {
     "cell_type": "code",
     "collapsed": false,
     "input": [
      "labels * 2 - 1"
     ],
     "language": "python",
     "metadata": {},
     "outputs": [
      {
       "metadata": {},
       "output_type": "pyout",
       "prompt_number": 27,
       "text": [
        "matrix([[-1],\n",
        "        [-1]])"
       ]
      }
     ],
     "prompt_number": 27
    },
    {
     "cell_type": "code",
     "collapsed": false,
     "input": [
      "trainer = SVMTrainer(Kernel.gaussian(1.0))"
     ],
     "language": "python",
     "metadata": {},
     "outputs": [],
     "prompt_number": 28
    },
    {
     "cell_type": "code",
     "collapsed": false,
     "input": [
      "trainer"
     ],
     "language": "python",
     "metadata": {},
     "outputs": [],
     "prompt_number": 29
    },
    {
     "cell_type": "code",
     "collapsed": false,
     "input": [
      "trainer = SVMTrainer(Kernel.gaussian(1.0), 0.1)"
     ],
     "language": "python",
     "metadata": {},
     "outputs": [
      {
       "ename": "TypeError",
       "evalue": "SVMTrainer() takes exactly 1 argument (2 given)",
       "output_type": "pyerr",
       "traceback": [
        "\u001b[0;31m---------------------------------------------------------------------------\u001b[0m\n\u001b[0;31mTypeError\u001b[0m                                 Traceback (most recent call last)",
        "\u001b[0;32m<ipython-input-30-429dc7d170fe>\u001b[0m in \u001b[0;36m<module>\u001b[0;34m()\u001b[0m\n\u001b[0;32m----> 1\u001b[0;31m \u001b[0mtrainer\u001b[0m \u001b[0;34m=\u001b[0m \u001b[0mSVMTrainer\u001b[0m\u001b[0;34m(\u001b[0m\u001b[0mKernel\u001b[0m\u001b[0;34m.\u001b[0m\u001b[0mgaussian\u001b[0m\u001b[0;34m(\u001b[0m\u001b[0;36m1.0\u001b[0m\u001b[0;34m)\u001b[0m\u001b[0;34m,\u001b[0m \u001b[0;36m0.1\u001b[0m\u001b[0;34m)\u001b[0m\u001b[0;34m\u001b[0m\u001b[0m\n\u001b[0m",
        "\u001b[0;31mTypeError\u001b[0m: SVMTrainer() takes exactly 1 argument (2 given)"
       ]
      }
     ],
     "prompt_number": 30
    },
    {
     "cell_type": "code",
     "collapsed": false,
     "input": [],
     "language": "python",
     "metadata": {},
     "outputs": []
    }
   ],
   "metadata": {}
  }
 ]
}